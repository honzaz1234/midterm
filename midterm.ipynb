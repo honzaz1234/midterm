{
 "cells": [
  {
   "cell_type": "code",
   "execution_count": null,
   "id": "07f5069a",
   "metadata": {},
   "outputs": [],
   "source": [
    "%matplotlib inline\n",
    "import matplotlib.pyplot as plt\n",
    "\n",
    "import requests\n",
    "import json\n",
    "\n",
    "import os\n",
    "import pandas as pd\n",
    "import numpy as np\n",
    "\n",
    "from bs4 import BeautifulSoup\n",
    "\n",
    "\n",
    "from IPython.core.display import HTML, display\n",
    "a=requests.post('https://ies-midterm.soulution.rocks/login', data=json.dumps({'cuni':'93419523'}))"
   ]
  },
  {
   "cell_type": "code",
   "execution_count": 15,
   "id": "52cc0c33",
   "metadata": {},
   "outputs": [
    {
     "data": {
      "text/html": [
       "{\"data\": {\"personal_code\": \"62cee961\", \"dataset_ids\": [\"81395feb08\", \"5df3513c79\", \"557b58dd1d\", \"2d1aef30ed\"]}, \"message\": \"Hello, \\u017dia\\u010dik Jan, Bc.! Good luck with the midterm. GET your data set from /data/file_id endpoint; use the codes you received in the data response as the file_id parameter! Print the personal code in your notebook.\"}"
      ],
      "text/plain": [
       "<IPython.core.display.HTML object>"
      ]
     },
     "metadata": {},
     "output_type": "display_data"
    }
   ],
   "source": [
    "display(HTML(a.text))"
   ]
  },
  {
   "cell_type": "code",
   "execution_count": 80,
   "id": "81a43ead",
   "metadata": {
    "scrolled": true
   },
   "outputs": [
    {
     "name": "stdout",
     "output_type": "stream",
     "text": [
      "[<Response [200]>, <Response [200]>, <Response [200]>, <Response [200]>]\n"
     ]
    }
   ],
   "source": [
    "list1=[\"81395feb08\",\"5df3513c79\",\"557b58dd1d\",\"2d1aef30ed\"]\n",
    "help1=[]\n",
    "url='https://ies-midterm.soulution.rocks/data/'\n",
    "k=0\n",
    "while k==0:\n",
    "    k=1\n",
    "    for x in list1:\n",
    "        str1=url+x\n",
    "        b=requests.get(str1)\n",
    "        if b.status_code==503:\n",
    "            k=0\n",
    "        else:\n",
    "            help1.append(b)\n",
    "            list1.remove(x)\n",
    "print(help1)\n",
    "for x in help1:\n",
    "    x=x.json.dumps\n",
    "    \n",
    "    \n",
    "    \n",
    "            \n",
    "\n",
    "    \n",
    "    \n",
    "\n",
    "\n",
    "    "
   ]
  },
  {
   "cell_type": "code",
   "execution_count": null,
   "id": "092e55f0",
   "metadata": {},
   "outputs": [],
   "source": []
  },
  {
   "cell_type": "code",
   "execution_count": null,
   "id": "9cc48bb4",
   "metadata": {},
   "outputs": [],
   "source": []
  },
  {
   "cell_type": "code",
   "execution_count": 76,
   "id": "e54d7d7c",
   "metadata": {},
   "outputs": [
    {
     "name": "stdout",
     "output_type": "stream",
     "text": [
      "https://ies-midterm.soulution.rocks/data/aaa\n"
     ]
    }
   ],
   "source": []
  },
  {
   "cell_type": "code",
   "execution_count": null,
   "id": "eedc644e",
   "metadata": {},
   "outputs": [],
   "source": []
  }
 ],
 "metadata": {
  "kernelspec": {
   "display_name": "Python 3",
   "language": "python",
   "name": "python3"
  }
 },
 "nbformat": 4,
 "nbformat_minor": 5
}
